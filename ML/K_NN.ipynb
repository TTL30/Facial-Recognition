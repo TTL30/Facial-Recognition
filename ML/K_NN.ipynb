{
  "nbformat": 4,
  "nbformat_minor": 0,
  "metadata": {
    "colab": {
      "name": "K-NN.ipynb",
      "provenance": [],
      "authorship_tag": "ABX9TyPqHD+4XTRASEcuhVjnOGsk",
      "include_colab_link": true
    },
    "kernelspec": {
      "name": "python3",
      "display_name": "Python 3"
    }
  },
  "cells": [
    {
      "cell_type": "markdown",
      "metadata": {
        "id": "view-in-github",
        "colab_type": "text"
      },
      "source": [
        "<a href=\"https://colab.research.google.com/github/TTL30/TensorFlow-Keras/blob/main/ML/K_NN.ipynb\" target=\"_parent\"><img src=\"https://colab.research.google.com/assets/colab-badge.svg\" alt=\"Open In Colab\"/></a>"
      ]
    },
    {
      "cell_type": "markdown",
      "metadata": {
        "id": "65QVBmtOfsho"
      },
      "source": [
        "#K-NN exercise\n",
        "\n",
        "Data : https://archive.ics.uci.edu/ml/datasets/Car+Evaluation \n",
        "\n",
        "Model to evaluate the class value of a car by looking at the following variables :\n",
        "\n",
        "\n",
        "*   buying\n",
        "*   maint\n",
        "*   doors\n",
        "* persons\n",
        "* lug_boot\n",
        "* safety\n",
        "\n"
      ]
    },
    {
      "cell_type": "code",
      "metadata": {
        "id": "7MN-xWtUzB1d"
      },
      "source": [
        "import pandas as pd\n",
        "import numpy as np\n",
        "import sklearn\n",
        "from sklearn import preprocessing, model_selection, neighbors"
      ],
      "execution_count": 74,
      "outputs": []
    },
    {
      "cell_type": "code",
      "metadata": {
        "id": "EcwtHesfV8rS"
      },
      "source": [
        "#get data\n",
        "data = pd.read_csv(\"/content/car.data.csv\", sep=',')"
      ],
      "execution_count": 75,
      "outputs": []
    },
    {
      "cell_type": "code",
      "metadata": {
        "id": "dtNTfLCkWEpt",
        "outputId": "75d86fdc-c610-4442-9cd1-b79a6715bb35",
        "colab": {
          "base_uri": "https://localhost:8080/",
          "height": 204
        }
      },
      "source": [
        "data.head()"
      ],
      "execution_count": 76,
      "outputs": [
        {
          "output_type": "execute_result",
          "data": {
            "text/html": [
              "<div>\n",
              "<style scoped>\n",
              "    .dataframe tbody tr th:only-of-type {\n",
              "        vertical-align: middle;\n",
              "    }\n",
              "\n",
              "    .dataframe tbody tr th {\n",
              "        vertical-align: top;\n",
              "    }\n",
              "\n",
              "    .dataframe thead th {\n",
              "        text-align: right;\n",
              "    }\n",
              "</style>\n",
              "<table border=\"1\" class=\"dataframe\">\n",
              "  <thead>\n",
              "    <tr style=\"text-align: right;\">\n",
              "      <th></th>\n",
              "      <th>buying</th>\n",
              "      <th>maint</th>\n",
              "      <th>doors</th>\n",
              "      <th>persons</th>\n",
              "      <th>lug_boot</th>\n",
              "      <th>safety</th>\n",
              "      <th>class</th>\n",
              "    </tr>\n",
              "  </thead>\n",
              "  <tbody>\n",
              "    <tr>\n",
              "      <th>0</th>\n",
              "      <td>vhigh</td>\n",
              "      <td>vhigh</td>\n",
              "      <td>2</td>\n",
              "      <td>2</td>\n",
              "      <td>small</td>\n",
              "      <td>low</td>\n",
              "      <td>unacc</td>\n",
              "    </tr>\n",
              "    <tr>\n",
              "      <th>1</th>\n",
              "      <td>vhigh</td>\n",
              "      <td>vhigh</td>\n",
              "      <td>2</td>\n",
              "      <td>2</td>\n",
              "      <td>small</td>\n",
              "      <td>med</td>\n",
              "      <td>unacc</td>\n",
              "    </tr>\n",
              "    <tr>\n",
              "      <th>2</th>\n",
              "      <td>vhigh</td>\n",
              "      <td>vhigh</td>\n",
              "      <td>2</td>\n",
              "      <td>2</td>\n",
              "      <td>small</td>\n",
              "      <td>high</td>\n",
              "      <td>unacc</td>\n",
              "    </tr>\n",
              "    <tr>\n",
              "      <th>3</th>\n",
              "      <td>vhigh</td>\n",
              "      <td>vhigh</td>\n",
              "      <td>2</td>\n",
              "      <td>2</td>\n",
              "      <td>med</td>\n",
              "      <td>low</td>\n",
              "      <td>unacc</td>\n",
              "    </tr>\n",
              "    <tr>\n",
              "      <th>4</th>\n",
              "      <td>vhigh</td>\n",
              "      <td>vhigh</td>\n",
              "      <td>2</td>\n",
              "      <td>2</td>\n",
              "      <td>med</td>\n",
              "      <td>med</td>\n",
              "      <td>unacc</td>\n",
              "    </tr>\n",
              "  </tbody>\n",
              "</table>\n",
              "</div>"
            ],
            "text/plain": [
              "  buying  maint doors persons lug_boot safety  class\n",
              "0  vhigh  vhigh     2       2    small    low  unacc\n",
              "1  vhigh  vhigh     2       2    small    med  unacc\n",
              "2  vhigh  vhigh     2       2    small   high  unacc\n",
              "3  vhigh  vhigh     2       2      med    low  unacc\n",
              "4  vhigh  vhigh     2       2      med    med  unacc"
            ]
          },
          "metadata": {
            "tags": []
          },
          "execution_count": 76
        }
      ]
    },
    {
      "cell_type": "code",
      "metadata": {
        "id": "r4n7F8CPW7lU"
      },
      "source": [
        "#Preprocessing the dataset, we transform all value to integer, ex: lug_boot : small  = 0, med = 1, big = 2\n",
        "pre = preprocessing.LabelEncoder()"
      ],
      "execution_count": 77,
      "outputs": []
    },
    {
      "cell_type": "code",
      "metadata": {
        "id": "HbMvyIGoXmB1"
      },
      "source": [
        "buying = pre.fit_transform(list(data['buying']))\n",
        "maint = pre.fit_transform(list(data['maint']))\n",
        "doors = pre.fit_transform(list(data['doors']))\n",
        "persons = pre.fit_transform(list(data['persons']))\n",
        "lug_boot = pre.fit_transform(list(data['lug_boot']))\n",
        "safety = pre.fit_transform(list(data['safety']))\n",
        "class1 = pre.fit_transform(list(data['class']))"
      ],
      "execution_count": 78,
      "outputs": []
    },
    {
      "cell_type": "code",
      "metadata": {
        "id": "oheM_1FXYFSG"
      },
      "source": [
        "#Separate class from variables\n",
        "X = list(zip(buying, maint, doors, persons, lug_boot, safety))\n",
        "Y =list(class1)"
      ],
      "execution_count": 79,
      "outputs": []
    },
    {
      "cell_type": "code",
      "metadata": {
        "id": "XJTuJ3RXYu1d"
      },
      "source": [
        "#Split dataset to get train and test datasets\n",
        "X_train, X_test, Y_train, Y_test = sklearn.model_selection.train_test_split(X, Y, test_size = 0.1)"
      ],
      "execution_count": 80,
      "outputs": []
    },
    {
      "cell_type": "code",
      "metadata": {
        "id": "1BvKvk-vZisA"
      },
      "source": [
        "#Model creation\n",
        "model = neighbors.KNeighborsClassifier(n_neighbors=9)"
      ],
      "execution_count": 81,
      "outputs": []
    },
    {
      "cell_type": "code",
      "metadata": {
        "id": "DCitn8PMZxAC",
        "outputId": "f494ac14-38b5-4cd6-b5d8-7b5d75ef1315",
        "colab": {
          "base_uri": "https://localhost:8080/"
        }
      },
      "source": [
        "#Model train\n",
        "model.fit(X_train, Y_train)"
      ],
      "execution_count": 82,
      "outputs": [
        {
          "output_type": "execute_result",
          "data": {
            "text/plain": [
              "KNeighborsClassifier(algorithm='auto', leaf_size=30, metric='minkowski',\n",
              "                     metric_params=None, n_jobs=None, n_neighbors=9, p=2,\n",
              "                     weights='uniform')"
            ]
          },
          "metadata": {
            "tags": []
          },
          "execution_count": 82
        }
      ]
    },
    {
      "cell_type": "code",
      "metadata": {
        "id": "Vvzrs0B5Z2Vk",
        "outputId": "c21aebb2-e836-4937-aff8-26c3a5db10d3",
        "colab": {
          "base_uri": "https://localhost:8080/"
        }
      },
      "source": [
        "accuracy = model.score(X_test, Y_test)\n",
        "print(\"Model accuracy : \",\"{:.2f}\".format(accuracy*100), \"%\")"
      ],
      "execution_count": 83,
      "outputs": [
        {
          "output_type": "stream",
          "text": [
            "Model accuracy :  94.80 %\n"
          ],
          "name": "stdout"
        }
      ]
    },
    {
      "cell_type": "code",
      "metadata": {
        "id": "jdHlSmPsdONe",
        "outputId": "bd1a54a2-9be9-402f-8c71-4e888fbb0d7a",
        "colab": {
          "base_uri": "https://localhost:8080/"
        }
      },
      "source": [
        "#Some predictions examples\n",
        "prediction = model.predict(X_test)\n",
        "class_names = [\"unacc\", \"acc\", \"good\", \"vgood\"]\n",
        "for i in range(len(prediction)):\n",
        "  print(\"Predicted :\", \"---\",class_names[prediction[i]],\"---\", \"Data\", X_test[i],\"---\", \"Actual : ---\", class_names[Y_test[i]])"
      ],
      "execution_count": 84,
      "outputs": [
        {
          "output_type": "stream",
          "text": [
            "Predicted : --- vgood --- Data (2, 1, 3, 2, 0, 0) --- Actual : --- vgood\n",
            "Predicted : --- unacc --- Data (2, 3, 1, 1, 0, 2) --- Actual : --- unacc\n",
            "Predicted : --- good --- Data (3, 0, 3, 1, 0, 2) --- Actual : --- good\n",
            "Predicted : --- good --- Data (3, 1, 0, 0, 0, 0) --- Actual : --- good\n",
            "Predicted : --- good --- Data (1, 3, 2, 0, 0, 2) --- Actual : --- good\n",
            "Predicted : --- good --- Data (0, 3, 0, 2, 2, 2) --- Actual : --- good\n",
            "Predicted : --- good --- Data (0, 1, 3, 2, 1, 1) --- Actual : --- good\n",
            "Predicted : --- good --- Data (0, 3, 1, 1, 2, 0) --- Actual : --- good\n",
            "Predicted : --- good --- Data (0, 1, 1, 0, 1, 0) --- Actual : --- good\n",
            "Predicted : --- unacc --- Data (0, 0, 2, 2, 0, 2) --- Actual : --- unacc\n",
            "Predicted : --- good --- Data (0, 2, 2, 0, 0, 0) --- Actual : --- good\n",
            "Predicted : --- good --- Data (2, 1, 3, 0, 2, 1) --- Actual : --- good\n",
            "Predicted : --- good --- Data (1, 3, 2, 1, 2, 1) --- Actual : --- good\n",
            "Predicted : --- good --- Data (1, 3, 1, 2, 2, 0) --- Actual : --- unacc\n",
            "Predicted : --- unacc --- Data (2, 2, 2, 2, 1, 2) --- Actual : --- unacc\n",
            "Predicted : --- good --- Data (1, 0, 3, 0, 1, 0) --- Actual : --- good\n",
            "Predicted : --- good --- Data (0, 2, 1, 2, 1, 1) --- Actual : --- good\n",
            "Predicted : --- good --- Data (2, 3, 0, 0, 0, 2) --- Actual : --- good\n",
            "Predicted : --- unacc --- Data (1, 2, 0, 1, 1, 2) --- Actual : --- unacc\n",
            "Predicted : --- good --- Data (1, 0, 1, 0, 0, 0) --- Actual : --- good\n",
            "Predicted : --- good --- Data (1, 0, 2, 0, 2, 1) --- Actual : --- good\n",
            "Predicted : --- unacc --- Data (2, 2, 3, 1, 2, 0) --- Actual : --- unacc\n",
            "Predicted : --- good --- Data (3, 1, 0, 1, 0, 1) --- Actual : --- good\n",
            "Predicted : --- good --- Data (3, 2, 2, 0, 0, 0) --- Actual : --- good\n",
            "Predicted : --- unacc --- Data (3, 3, 3, 2, 0, 2) --- Actual : --- good\n",
            "Predicted : --- unacc --- Data (3, 2, 0, 2, 1, 0) --- Actual : --- unacc\n",
            "Predicted : --- unacc --- Data (1, 0, 1, 1, 2, 2) --- Actual : --- unacc\n",
            "Predicted : --- good --- Data (1, 1, 2, 1, 2, 1) --- Actual : --- good\n",
            "Predicted : --- acc --- Data (2, 1, 1, 1, 2, 0) --- Actual : --- acc\n",
            "Predicted : --- good --- Data (0, 1, 2, 2, 0, 1) --- Actual : --- good\n",
            "Predicted : --- good --- Data (1, 0, 2, 0, 0, 1) --- Actual : --- good\n",
            "Predicted : --- unacc --- Data (2, 0, 3, 1, 0, 0) --- Actual : --- unacc\n",
            "Predicted : --- good --- Data (2, 3, 0, 0, 1, 1) --- Actual : --- good\n",
            "Predicted : --- good --- Data (0, 0, 3, 2, 2, 1) --- Actual : --- good\n",
            "Predicted : --- good --- Data (0, 3, 3, 1, 1, 0) --- Actual : --- good\n",
            "Predicted : --- good --- Data (0, 3, 3, 2, 2, 1) --- Actual : --- good\n",
            "Predicted : --- vgood --- Data (1, 1, 1, 2, 0, 0) --- Actual : --- vgood\n",
            "Predicted : --- good --- Data (0, 2, 3, 0, 2, 2) --- Actual : --- good\n",
            "Predicted : --- good --- Data (3, 0, 0, 2, 1, 1) --- Actual : --- good\n",
            "Predicted : --- good --- Data (1, 1, 1, 1, 2, 1) --- Actual : --- good\n",
            "Predicted : --- good --- Data (1, 0, 0, 1, 1, 1) --- Actual : --- good\n",
            "Predicted : --- good --- Data (3, 1, 3, 0, 0, 0) --- Actual : --- good\n",
            "Predicted : --- good --- Data (0, 0, 2, 0, 0, 2) --- Actual : --- good\n",
            "Predicted : --- good --- Data (3, 0, 3, 1, 1, 2) --- Actual : --- good\n",
            "Predicted : --- good --- Data (0, 2, 3, 0, 0, 2) --- Actual : --- good\n",
            "Predicted : --- unacc --- Data (1, 3, 3, 2, 0, 0) --- Actual : --- unacc\n",
            "Predicted : --- good --- Data (0, 3, 0, 0, 2, 1) --- Actual : --- good\n",
            "Predicted : --- good --- Data (3, 3, 3, 0, 0, 0) --- Actual : --- good\n",
            "Predicted : --- vgood --- Data (2, 1, 1, 2, 0, 0) --- Actual : --- vgood\n",
            "Predicted : --- unacc --- Data (0, 0, 3, 2, 2, 0) --- Actual : --- unacc\n",
            "Predicted : --- good --- Data (1, 2, 3, 0, 1, 1) --- Actual : --- good\n",
            "Predicted : --- unacc --- Data (0, 0, 0, 1, 1, 0) --- Actual : --- unacc\n",
            "Predicted : --- good --- Data (2, 1, 3, 0, 1, 0) --- Actual : --- good\n",
            "Predicted : --- good --- Data (0, 3, 0, 2, 1, 2) --- Actual : --- good\n",
            "Predicted : --- good --- Data (0, 1, 2, 0, 1, 0) --- Actual : --- good\n",
            "Predicted : --- good --- Data (1, 3, 1, 0, 2, 2) --- Actual : --- good\n",
            "Predicted : --- good --- Data (0, 1, 0, 2, 2, 0) --- Actual : --- good\n",
            "Predicted : --- good --- Data (3, 1, 2, 0, 1, 1) --- Actual : --- good\n",
            "Predicted : --- good --- Data (2, 2, 2, 0, 2, 0) --- Actual : --- good\n",
            "Predicted : --- good --- Data (3, 1, 1, 0, 0, 2) --- Actual : --- good\n",
            "Predicted : --- unacc --- Data (1, 0, 1, 2, 1, 0) --- Actual : --- vgood\n",
            "Predicted : --- good --- Data (1, 3, 2, 2, 2, 1) --- Actual : --- good\n",
            "Predicted : --- good --- Data (3, 0, 3, 2, 1, 1) --- Actual : --- good\n",
            "Predicted : --- good --- Data (0, 2, 3, 1, 2, 2) --- Actual : --- good\n",
            "Predicted : --- good --- Data (1, 0, 3, 2, 1, 1) --- Actual : --- good\n",
            "Predicted : --- good --- Data (2, 1, 0, 1, 1, 1) --- Actual : --- good\n",
            "Predicted : --- unacc --- Data (0, 2, 3, 2, 2, 0) --- Actual : --- unacc\n",
            "Predicted : --- good --- Data (2, 0, 0, 2, 2, 1) --- Actual : --- good\n",
            "Predicted : --- unacc --- Data (1, 3, 3, 2, 1, 0) --- Actual : --- unacc\n",
            "Predicted : --- unacc --- Data (1, 2, 3, 2, 2, 2) --- Actual : --- unacc\n",
            "Predicted : --- good --- Data (0, 2, 1, 2, 2, 2) --- Actual : --- good\n",
            "Predicted : --- unacc --- Data (0, 0, 3, 1, 0, 2) --- Actual : --- unacc\n",
            "Predicted : --- unacc --- Data (3, 2, 0, 1, 1, 0) --- Actual : --- unacc\n",
            "Predicted : --- good --- Data (3, 1, 1, 2, 2, 2) --- Actual : --- good\n",
            "Predicted : --- good --- Data (3, 0, 2, 1, 2, 1) --- Actual : --- good\n",
            "Predicted : --- unacc --- Data (1, 1, 2, 1, 1, 2) --- Actual : --- acc\n",
            "Predicted : --- good --- Data (0, 3, 2, 0, 2, 0) --- Actual : --- good\n",
            "Predicted : --- good --- Data (1, 3, 1, 2, 2, 2) --- Actual : --- good\n",
            "Predicted : --- good --- Data (2, 1, 2, 2, 2, 1) --- Actual : --- good\n",
            "Predicted : --- unacc --- Data (3, 2, 2, 2, 1, 2) --- Actual : --- unacc\n",
            "Predicted : --- good --- Data (3, 0, 1, 1, 2, 1) --- Actual : --- good\n",
            "Predicted : --- unacc --- Data (1, 0, 2, 2, 2, 2) --- Actual : --- unacc\n",
            "Predicted : --- good --- Data (0, 1, 1, 2, 2, 2) --- Actual : --- good\n",
            "Predicted : --- good --- Data (3, 3, 3, 0, 0, 2) --- Actual : --- good\n",
            "Predicted : --- acc --- Data (1, 2, 2, 1, 2, 0) --- Actual : --- acc\n",
            "Predicted : --- good --- Data (2, 3, 0, 1, 2, 1) --- Actual : --- good\n",
            "Predicted : --- good --- Data (1, 2, 0, 2, 1, 1) --- Actual : --- good\n",
            "Predicted : --- good --- Data (1, 2, 0, 1, 2, 1) --- Actual : --- good\n",
            "Predicted : --- good --- Data (0, 2, 1, 0, 2, 1) --- Actual : --- good\n",
            "Predicted : --- unacc --- Data (0, 2, 3, 1, 0, 0) --- Actual : --- unacc\n",
            "Predicted : --- acc --- Data (1, 1, 3, 1, 0, 2) --- Actual : --- acc\n",
            "Predicted : --- good --- Data (0, 3, 0, 2, 0, 2) --- Actual : --- good\n",
            "Predicted : --- good --- Data (3, 1, 2, 0, 0, 2) --- Actual : --- good\n",
            "Predicted : --- good --- Data (2, 3, 3, 2, 2, 1) --- Actual : --- good\n",
            "Predicted : --- good --- Data (1, 0, 3, 1, 2, 2) --- Actual : --- unacc\n",
            "Predicted : --- good --- Data (1, 1, 1, 0, 2, 1) --- Actual : --- good\n",
            "Predicted : --- good --- Data (3, 0, 2, 0, 0, 0) --- Actual : --- good\n",
            "Predicted : --- good --- Data (1, 1, 3, 0, 2, 1) --- Actual : --- good\n",
            "Predicted : --- vgood --- Data (1, 1, 1, 1, 1, 0) --- Actual : --- acc\n",
            "Predicted : --- good --- Data (3, 3, 2, 2, 2, 0) --- Actual : --- good\n",
            "Predicted : --- good --- Data (3, 3, 3, 1, 0, 2) --- Actual : --- good\n",
            "Predicted : --- good --- Data (0, 0, 0, 1, 0, 1) --- Actual : --- good\n",
            "Predicted : --- unacc --- Data (3, 2, 3, 1, 1, 0) --- Actual : --- unacc\n",
            "Predicted : --- unacc --- Data (1, 3, 1, 2, 1, 0) --- Actual : --- unacc\n",
            "Predicted : --- good --- Data (0, 3, 1, 0, 0, 0) --- Actual : --- good\n",
            "Predicted : --- good --- Data (2, 2, 1, 0, 2, 0) --- Actual : --- good\n",
            "Predicted : --- good --- Data (2, 0, 0, 1, 2, 1) --- Actual : --- good\n",
            "Predicted : --- good --- Data (2, 3, 2, 0, 1, 0) --- Actual : --- good\n",
            "Predicted : --- good --- Data (2, 3, 3, 0, 1, 2) --- Actual : --- good\n",
            "Predicted : --- good --- Data (0, 2, 1, 2, 2, 1) --- Actual : --- good\n",
            "Predicted : --- good --- Data (1, 3, 3, 0, 0, 1) --- Actual : --- good\n",
            "Predicted : --- good --- Data (1, 3, 1, 0, 0, 0) --- Actual : --- good\n",
            "Predicted : --- good --- Data (3, 0, 0, 2, 2, 0) --- Actual : --- good\n",
            "Predicted : --- good --- Data (3, 1, 0, 0, 1, 1) --- Actual : --- good\n",
            "Predicted : --- good --- Data (0, 3, 0, 2, 0, 0) --- Actual : --- good\n",
            "Predicted : --- good --- Data (1, 0, 1, 0, 2, 1) --- Actual : --- good\n",
            "Predicted : --- unacc --- Data (2, 3, 2, 2, 1, 0) --- Actual : --- unacc\n",
            "Predicted : --- good --- Data (0, 2, 1, 2, 0, 1) --- Actual : --- good\n",
            "Predicted : --- unacc --- Data (0, 0, 2, 1, 1, 0) --- Actual : --- unacc\n",
            "Predicted : --- good --- Data (2, 0, 0, 1, 1, 2) --- Actual : --- good\n",
            "Predicted : --- good --- Data (0, 2, 3, 0, 2, 1) --- Actual : --- good\n",
            "Predicted : --- good --- Data (2, 3, 3, 2, 1, 1) --- Actual : --- good\n",
            "Predicted : --- good --- Data (2, 2, 2, 1, 2, 1) --- Actual : --- good\n",
            "Predicted : --- good --- Data (3, 2, 2, 0, 0, 1) --- Actual : --- good\n",
            "Predicted : --- good --- Data (3, 0, 0, 0, 2, 2) --- Actual : --- good\n",
            "Predicted : --- unacc --- Data (2, 0, 1, 2, 2, 0) --- Actual : --- unacc\n",
            "Predicted : --- good --- Data (3, 0, 0, 1, 1, 2) --- Actual : --- good\n",
            "Predicted : --- good --- Data (3, 3, 3, 1, 0, 0) --- Actual : --- good\n",
            "Predicted : --- good --- Data (3, 0, 0, 0, 1, 0) --- Actual : --- good\n",
            "Predicted : --- good --- Data (1, 3, 1, 2, 2, 1) --- Actual : --- good\n",
            "Predicted : --- good --- Data (1, 0, 0, 2, 2, 1) --- Actual : --- good\n",
            "Predicted : --- good --- Data (1, 0, 0, 0, 0, 1) --- Actual : --- good\n",
            "Predicted : --- good --- Data (2, 3, 1, 0, 1, 1) --- Actual : --- good\n",
            "Predicted : --- good --- Data (1, 0, 0, 0, 1, 0) --- Actual : --- good\n",
            "Predicted : --- unacc --- Data (2, 3, 1, 1, 0, 0) --- Actual : --- unacc\n",
            "Predicted : --- good --- Data (3, 0, 0, 0, 1, 1) --- Actual : --- good\n",
            "Predicted : --- good --- Data (1, 2, 0, 2, 0, 1) --- Actual : --- good\n",
            "Predicted : --- good --- Data (2, 3, 2, 1, 0, 1) --- Actual : --- good\n",
            "Predicted : --- good --- Data (2, 2, 3, 0, 1, 0) --- Actual : --- good\n",
            "Predicted : --- good --- Data (1, 1, 0, 2, 1, 1) --- Actual : --- good\n",
            "Predicted : --- good --- Data (3, 1, 2, 1, 2, 2) --- Actual : --- good\n",
            "Predicted : --- good --- Data (2, 1, 0, 2, 0, 1) --- Actual : --- good\n",
            "Predicted : --- good --- Data (1, 3, 2, 2, 2, 2) --- Actual : --- good\n",
            "Predicted : --- good --- Data (3, 2, 3, 1, 2, 2) --- Actual : --- good\n",
            "Predicted : --- good --- Data (0, 0, 1, 0, 0, 0) --- Actual : --- good\n",
            "Predicted : --- good --- Data (2, 1, 3, 0, 0, 2) --- Actual : --- good\n",
            "Predicted : --- unacc --- Data (1, 3, 2, 2, 1, 2) --- Actual : --- unacc\n",
            "Predicted : --- good --- Data (2, 1, 0, 0, 2, 2) --- Actual : --- good\n",
            "Predicted : --- unacc --- Data (1, 2, 1, 2, 2, 2) --- Actual : --- unacc\n",
            "Predicted : --- vgood --- Data (1, 1, 2, 2, 1, 0) --- Actual : --- vgood\n",
            "Predicted : --- unacc --- Data (2, 0, 3, 2, 1, 0) --- Actual : --- unacc\n",
            "Predicted : --- good --- Data (2, 3, 1, 2, 2, 2) --- Actual : --- good\n",
            "Predicted : --- good --- Data (0, 2, 0, 1, 2, 1) --- Actual : --- good\n",
            "Predicted : --- good --- Data (0, 0, 3, 1, 0, 1) --- Actual : --- good\n",
            "Predicted : --- good --- Data (1, 1, 2, 0, 0, 0) --- Actual : --- good\n",
            "Predicted : --- vgood --- Data (1, 2, 3, 2, 1, 0) --- Actual : --- vgood\n",
            "Predicted : --- unacc --- Data (2, 2, 0, 1, 2, 0) --- Actual : --- unacc\n",
            "Predicted : --- good --- Data (3, 1, 0, 1, 2, 0) --- Actual : --- unacc\n",
            "Predicted : --- good --- Data (3, 3, 0, 2, 2, 2) --- Actual : --- good\n",
            "Predicted : --- good --- Data (1, 2, 3, 1, 1, 1) --- Actual : --- good\n",
            "Predicted : --- good --- Data (0, 3, 1, 1, 1, 1) --- Actual : --- good\n",
            "Predicted : --- good --- Data (2, 0, 2, 2, 1, 1) --- Actual : --- good\n",
            "Predicted : --- good --- Data (0, 1, 1, 0, 2, 1) --- Actual : --- good\n",
            "Predicted : --- good --- Data (1, 0, 2, 0, 1, 1) --- Actual : --- good\n",
            "Predicted : --- unacc --- Data (2, 1, 1, 2, 1, 2) --- Actual : --- acc\n",
            "Predicted : --- good --- Data (3, 3, 2, 1, 1, 0) --- Actual : --- good\n",
            "Predicted : --- good --- Data (0, 2, 2, 1, 1, 2) --- Actual : --- unacc\n",
            "Predicted : --- good --- Data (2, 1, 2, 0, 2, 2) --- Actual : --- good\n",
            "Predicted : --- good --- Data (2, 1, 3, 2, 1, 1) --- Actual : --- good\n",
            "Predicted : --- good --- Data (0, 1, 1, 0, 2, 2) --- Actual : --- good\n",
            "Predicted : --- good --- Data (2, 1, 3, 1, 2, 1) --- Actual : --- good\n",
            "Predicted : --- unacc --- Data (2, 0, 0, 2, 1, 0) --- Actual : --- unacc\n",
            "Predicted : --- vgood --- Data (1, 2, 0, 1, 0, 0) --- Actual : --- vgood\n"
          ],
          "name": "stdout"
        }
      ]
    }
  ]
}