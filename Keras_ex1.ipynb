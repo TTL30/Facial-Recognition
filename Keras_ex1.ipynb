{
  "nbformat": 4,
  "nbformat_minor": 0,
  "metadata": {
    "colab": {
      "name": "Keras_ex1",
      "provenance": [],
      "authorship_tag": "ABX9TyPgBkJXZkh/DuQ3EzZdEq9W",
      "include_colab_link": true
    },
    "kernelspec": {
      "name": "python3",
      "display_name": "Python 3"
    },
    "accelerator": "GPU"
  },
  "cells": [
    {
      "cell_type": "markdown",
      "metadata": {
        "id": "view-in-github",
        "colab_type": "text"
      },
      "source": [
        "<a href=\"https://colab.research.google.com/github/TTL30/Facial-Recognition/blob/main/Keras_ex1.ipynb\" target=\"_parent\"><img src=\"https://colab.research.google.com/assets/colab-badge.svg\" alt=\"Open In Colab\"/></a>"
      ]
    },
    {
      "cell_type": "code",
      "metadata": {
        "id": "dCxE0KGLnlLN"
      },
      "source": [
        "##import TensorFlow\n",
        "import tensorflow as tf"
      ],
      "execution_count": 1,
      "outputs": []
    },
    {
      "cell_type": "code",
      "metadata": {
        "id": "go6g-94Sn2GJ"
      },
      "source": [
        "#Get data from mnist datasets\n",
        "(train_images, train_labels), (test_images, test_labels) = tf.keras.datasets.mnist.load_data()"
      ],
      "execution_count": 18,
      "outputs": []
    },
    {
      "cell_type": "code",
      "metadata": {
        "id": "C5Bk92BmoIZr",
        "outputId": "e9f3f237-a3a9-4930-e7d7-185c4f7af6d3",
        "colab": {
          "base_uri": "https://localhost:8080/"
        }
      },
      "source": [
        "print(\"Shape train : \", train_images.shape)\n",
        "print(\"Shape test : \", test_images.shape)"
      ],
      "execution_count": 17,
      "outputs": [
        {
          "output_type": "stream",
          "text": [
            "Shape train :  (60000, 28, 28)\n",
            "Shape test :  (10000, 28, 28)\n"
          ],
          "name": "stdout"
        }
      ]
    },
    {
      "cell_type": "markdown",
      "metadata": {
        "id": "rXYgCnLTpAtY"
      },
      "source": [
        "We have 90% of training and 10% of test"
      ]
    },
    {
      "cell_type": "code",
      "metadata": {
        "id": "lIpVD7YipGOh"
      },
      "source": [
        "train_images = train_images/255\n",
        "test_images = test_images/255"
      ],
      "execution_count": 19,
      "outputs": []
    },
    {
      "cell_type": "code",
      "metadata": {
        "id": "h-YYaNtqpy0C"
      },
      "source": [
        "model = tf.keras.models.Sequential([\n",
        "  tf.keras.layers.Flatten(input_shape=(28, 28)),\n",
        "  tf.keras.layers.Dense(128, activation='relu'),\n",
        "  tf.keras.layers.Dropout(0.2),\n",
        "  tf.keras.layers.Dense(10)\n",
        "])"
      ],
      "execution_count": 21,
      "outputs": []
    },
    {
      "cell_type": "code",
      "metadata": {
        "id": "052Fwb2Sqx3d",
        "outputId": "c1188127-bdad-48ac-d173-fb4bdb254c1a",
        "colab": {
          "base_uri": "https://localhost:8080/"
        }
      },
      "source": [
        "predictions = model(train_images[:1]).numpy()\n",
        "predictions"
      ],
      "execution_count": 23,
      "outputs": [
        {
          "output_type": "execute_result",
          "data": {
            "text/plain": [
              "array([[ 0.2798143 , -0.2748161 , -0.30117714,  0.35864398, -0.40404642,\n",
              "         0.07991197, -0.13247561,  0.2482925 ,  0.34401187, -0.12701893]],\n",
              "      dtype=float32)"
            ]
          },
          "metadata": {
            "tags": []
          },
          "execution_count": 23
        }
      ]
    },
    {
      "cell_type": "code",
      "metadata": {
        "id": "BIJ-YUcnrMaH",
        "outputId": "c9044524-3f69-465f-ac86-e1d3da615baa",
        "colab": {
          "base_uri": "https://localhost:8080/"
        }
      },
      "source": [
        "train_labels[:1]"
      ],
      "execution_count": 28,
      "outputs": [
        {
          "output_type": "execute_result",
          "data": {
            "text/plain": [
              "array([5], dtype=uint8)"
            ]
          },
          "metadata": {
            "tags": []
          },
          "execution_count": 28
        }
      ]
    }
  ]
}