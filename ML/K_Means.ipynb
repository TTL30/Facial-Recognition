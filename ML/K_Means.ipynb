{
  "nbformat": 4,
  "nbformat_minor": 0,
  "metadata": {
    "colab": {
      "name": "K-Means.ipynb",
      "provenance": [],
      "authorship_tag": "ABX9TyP5VqLrZduLbB/hpUMZS0SR",
      "include_colab_link": true
    },
    "kernelspec": {
      "name": "python3",
      "display_name": "Python 3"
    }
  },
  "cells": [
    {
      "cell_type": "markdown",
      "metadata": {
        "id": "view-in-github",
        "colab_type": "text"
      },
      "source": [
        "<a href=\"https://colab.research.google.com/github/TTL30/TensorFlow-Keras/blob/main/ML/K_Means.ipynb\" target=\"_parent\"><img src=\"https://colab.research.google.com/assets/colab-badge.svg\" alt=\"Open In Colab\"/></a>"
      ]
    },
    {
      "cell_type": "code",
      "metadata": {
        "id": "UhIFwiwcw8Rt"
      },
      "source": [
        "import sklearn \n",
        "from sklearn import datasets, cluster, preprocessing, metrics\n",
        "import numpy as np\n",
        "from time import time"
      ],
      "execution_count": 60,
      "outputs": []
    },
    {
      "cell_type": "code",
      "metadata": {
        "id": "X3o_1T6rxJml"
      },
      "source": [
        "dataset = datasets.load_digits()"
      ],
      "execution_count": 33,
      "outputs": []
    },
    {
      "cell_type": "code",
      "metadata": {
        "id": "479rUIMFxNpn"
      },
      "source": [
        "data = preprocessing.scale(dataset.data)"
      ],
      "execution_count": 34,
      "outputs": []
    },
    {
      "cell_type": "code",
      "metadata": {
        "id": "95TciQ0Sxowe"
      },
      "source": [
        "Y = dataset.target"
      ],
      "execution_count": 35,
      "outputs": []
    },
    {
      "cell_type": "code",
      "metadata": {
        "id": "gaaFeawwx8vy"
      },
      "source": [
        "K = len(np.unique(Y))"
      ],
      "execution_count": 36,
      "outputs": []
    },
    {
      "cell_type": "code",
      "metadata": {
        "id": "dYZiXpW9yQuZ"
      },
      "source": [
        "samples, features = data.shape"
      ],
      "execution_count": 37,
      "outputs": []
    },
    {
      "cell_type": "code",
      "metadata": {
        "id": "9F5y4gxByqsj"
      },
      "source": [
        "def bench_k_means(estimator, name, data):\n",
        "    t0 = time()\n",
        "    estimator.fit(data)\n",
        "    print('%-9s\\t%.2fs\\t%i\\t%.3f\\t%.3f\\t%.3f\\t%.3f\\t%.3f\\t%.3f'\n",
        "          % (name, (time() - t0), estimator.inertia_,\n",
        "             metrics.homogeneity_score(Y, estimator.labels_),\n",
        "             metrics.completeness_score(Y, estimator.labels_),\n",
        "             metrics.v_measure_score(Y, estimator.labels_),\n",
        "             metrics.adjusted_rand_score(Y, estimator.labels_),\n",
        "             metrics.adjusted_mutual_info_score(Y,  estimator.labels_),\n",
        "             metrics.silhouette_score(data, estimator.labels_,\n",
        "                                      metric='euclidean',\n",
        "                                      sample_size=1724)))"
      ],
      "execution_count": 63,
      "outputs": []
    },
    {
      "cell_type": "code",
      "metadata": {
        "id": "PK8nu-5pywlr"
      },
      "source": [
        "model = cluster.KMeans(n_clusters=K, init=\"random\", n_init=10)"
      ],
      "execution_count": 41,
      "outputs": []
    },
    {
      "cell_type": "code",
      "metadata": {
        "id": "CpN6I3a-y-lz",
        "outputId": "eb3ee282-962f-4f65-9280-a04e584fad9b",
        "colab": {
          "base_uri": "https://localhost:8080/"
        }
      },
      "source": [
        "bench_k_means(model,\"1\", data)"
      ],
      "execution_count": 64,
      "outputs": [
        {
          "output_type": "stream",
          "text": [
            "1        \t0.26s\t70536\t0.641\t0.682\t0.661\t0.523\t0.657\t0.139\n"
          ],
          "name": "stdout"
        }
      ]
    }
  ]
}